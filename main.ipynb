{
 "cells": [
  {
   "cell_type": "code",
   "execution_count": 1,
   "id": "daee0dc3-1b73-45ac-b782-731ff8321b0e",
   "metadata": {},
   "outputs": [
    {
     "name": "stdout",
     "output_type": "stream",
     "text": [
      "Note: you may need to restart the kernel to use updated packages.\n"
     ]
    }
   ],
   "source": [
    "pip install -q langchain-mcp-adapters langchain-openai python-dotenv langgraph"
   ]
  },
  {
   "cell_type": "code",
   "execution_count": 1,
   "id": "bfea3b02-84e4-4273-9708-a3a7b6f464b4",
   "metadata": {},
   "outputs": [
    {
     "name": "stdout",
     "output_type": "stream",
     "text": [
      "Requirement already satisfied: pip in /Library/Frameworks/Python.framework/Versions/3.13/lib/python3.13/site-packages (25.2)\n",
      "Note: you may need to restart the kernel to use updated packages.\n"
     ]
    }
   ],
   "source": [
    "pip install --upgrade pip"
   ]
  },
  {
   "cell_type": "code",
   "execution_count": 5,
   "id": "6330c3dd-0981-4569-92d8-7b119866d77c",
   "metadata": {},
   "outputs": [],
   "source": [
    "import logging\n",
    "import asyncio\n",
    "from langchain_openai import ChatOpenAI\n",
    "from langgraph.prebuilt import create_react_agent\n",
    "from langchain_mcp_adapters.client import MultiServerMCPClient\n",
    "\n",
    "from IPython.display import Markdown, display"
   ]
  },
  {
   "cell_type": "code",
   "execution_count": 6,
   "id": "06a4f9eb-8655-4268-8709-4b92f3ae1f6c",
   "metadata": {},
   "outputs": [],
   "source": [
    "from dotenv import find_dotenv, load_dotenv\n",
    "import os\n",
    "\n",
    "load_dotenv(find_dotenv(), override=True)\n",
    "\n",
    "brightdata_api_token = os.getenv(\"BRIGHT_DATA_API_TOKEN\")"
   ]
  },
  {
   "cell_type": "raw",
   "id": "2991f460-9f5d-4904-bfe4-f97ea388a4db",
   "metadata": {},
   "source": [
    "class IgnoreSSEConnectionFilter(logging.Filter):\n",
    "    def filter(self, record):\n",
    "        msg = record.getMessage()\n",
    "        # adjust substring check to match what you see in your logs\n",
    "        return \"sse/connection\" not in msg and \"SSE Connection established\" not in msg\n",
    "\n",
    "logging.getLogger().addFilter(IgnoreSSEConnectionFilter())"
   ]
  },
  {
   "cell_type": "code",
   "execution_count": 7,
   "id": "dfcd8872-f1a8-4226-ba88-5b3f197deef9",
   "metadata": {},
   "outputs": [],
   "source": [
    "async def main():\n",
    "    # Configure MCP client\n",
    "    client = MultiServerMCPClient({\n",
    "        \"bright_data\": {\n",
    "            \"url\": f\"https://mcp.brightdata.com/sse?token={brightdata_api_token}\",\n",
    "            \"transport\": \"sse\",\n",
    "        }\n",
    "    })\n",
    "\n",
    "    # Get available tools\n",
    "    tools = await client.get_tools()\n",
    "    print(\"Available tools:\", [tool.name for tool in tools])\n",
    "\n",
    "    # Configure LLM\n",
    "    llm = ChatOpenAI(\n",
    "        openai_api_key=os.getenv(\"OPENROUTER_API_KEY\"),\n",
    "        openai_api_base=\"https://openrouter.ai/api/v1\",\n",
    "        model_name=\"moonshotai/kimi-k2\",\n",
    "    )\n",
    "\n",
    "    # System prompt for web search agent\n",
    "    system_prompt = \"\"\"\n",
    "    You are a web search agent with comprehensive scraping capabilities. Your tools include:\n",
    "    - **search_engine**: Get search results from Google/Bing/Yandex\n",
    "    - **scrape_as_markdown**: Extract content from any webpage with bot detection bypass\n",
    "    - **Structured extractors**: Fast, reliable data from major platforms (Amazon, LinkedIn, Instagram, Facebook, X, TikTok, YouTube, Reddit, Zillow, etc.)\n",
    "    - **Browser automation**: Navigate, click, type, screenshot for complex interactions\n",
    "\n",
    "    Guidelines:\n",
    "    - Use structured web_data_* tools for supported platforms when possible (faster/more reliable)\n",
    "    - Use general scraping for other sites\n",
    "    - Handle errors gracefully and respect rate limits\n",
    "    - Think step by step about what information you need and which tools to use\n",
    "    - Be thorough in your research and provide comprehensive answers\n",
    "\n",
    "    When responding, follow this pattern:\n",
    "    1. Think about what information is needed\n",
    "    2. Choose the appropriate tool(s)\n",
    "    3. Execute the tool(s)\n",
    "    4. Analyze the results\n",
    "    5. Provide a clear, comprehensive answer\n",
    "    \"\"\"\n",
    "\n",
    "    # Create ReAct agent\n",
    "    agent = create_react_agent(\n",
    "        model=llm,\n",
    "        tools=tools,\n",
    "        prompt=system_prompt\n",
    "    )\n",
    "\n",
    "    # Test the agent\n",
    "    print(\"Testing ReAct Agent with available tools...\")\n",
    "    print(\"=\" * 50)\n",
    "\n",
    "    result = await agent.ainvoke({\n",
    "        \"messages\": [\n",
    "            (\"human\", \"Search for the latest news about AI agents with its relevant tools\")\n",
    "        ]\n",
    "    })\n",
    "\n",
    "    print(\"\\nAgent Response:\")\n",
    "    display(Markdown(result[\"messages\"][-1].content))"
   ]
  },
  {
   "cell_type": "code",
   "execution_count": 17,
   "id": "2911f39c-c2c9-4743-a390-6920514c307b",
   "metadata": {},
   "outputs": [
    {
     "name": "stdout",
     "output_type": "stream",
     "text": [
      "Available tools: ['search_engine', 'scrape_as_markdown', 'search_engine_batch', 'scrape_batch']\n",
      "Testing ReAct Agent with available tools...\n",
      "==================================================\n",
      "\n",
      "Agent Response:\n"
     ]
    },
    {
     "data": {
      "text/markdown": [
       "Based on my comprehensive research across multiple authoritative sources, here's a detailed overview of the latest AI developments happening right now:\n",
       "\n",
       "## 🚀 **OpenAI's Bold Platform Revolution**\n",
       "OpenAI is making massive moves toward becoming the \"universal interface\" for digital life:\n",
       "- **ChatGPT Integration**: Launched new apps feature allowing direct integration with Spotify, Expedia, and other services within chat conversations\n",
       "- **User Explosion**: Now serves **800 million weekly active users** - more than double all major competitors (Meta AI, Gemini, Grok, Perplexity, Claude) combined\n",
       "- **AMD Partnership**: Secured 6 gigawatts of AMD M4150 GPUs for inference tasks starting 2026, potentially giving OpenAI up to 10% of AMD shares\n",
       "- **Universal Ambition**: Positioning ChatGPT to replace traditional browsers and become the primary interface for all digital activities\n",
       "\n",
       "## 🌏 **India's AI-E-commerce Revolution**\n",
       "India has launched a groundbreaking pilot program allowing direct shopping and payments through AI chatbots:\n",
       "- **ChatGPT-First Launch**: Users can shop BigBasket groceries and Vi mobile recharges directly through natural conversations\n",
       "- **UPI Integration**: Built on India's Unified Payments Interface allowing seamless in-chat transactions\n",
       "- **Multi-AI Platform**: Expanding to include Google Gemini and Anthropic Claude integrations\n",
       "- **Novel Experience**: First major market allowing commerce directly through AI conversation without external app switching\n",
       "\n",
       "## 🔒 **AI Safety and Regulatory Developments**\n",
       "\n",
       "**Microsoft AI Security Research**: New study reveals AI can bypass biosecurity controls, creating \"zero-day\" biosecurity threats by redesigning known toxins to slip past screening systems\n",
       "\n",
       "**European AI Sovereignty**: EU preparing €1 billion \"Apply AI Strategy\" to reduce dependence on US/Chinese AI systems and promote European generative AI in public administration\n",
       "\n",
       "**China's AI Acceleration**:\n",
       "- Huawei announced new AI chip infrastructure as Nvidia continues facing China restrictions\n",
       "- DeepSeek unveiled breakthrough R1 model trained at 70% lower cost than comparable US models\n",
       "- Multiple Chinese firms launching ultra-efficient open-source models\n",
       "\n",
       "## 🏥 **Healthcare AI Breakthroughs**\n",
       "- **AI Disease Prediction**: MIT researchers developed \"VaxSeer\" - AI system that outperforms WHO in predicting flu vaccine strains\n",
       "- **Medical Imaging**: New AI cardiac imaging lens can reveal hidden coronary risks in real-time during procedures\n",
       "- **Brain-Computer Interface**: UCLA engineers created wearable, non-invasive BCI system with 4x performance improvement\n",
       "\n",
       "## 👨‍💼 **Enterprise AI Integration**\n",
       "- **Salesforce**: CEO reported AI agents now handle 50% of customer service interactions, enabling staff reduction from 9,000 to 5,000 while maintaining quality\n",
       "- **Amazon**: Expanding AI seller tools across marketplace with task automation and catalog management capabilities\n",
       "- **YouTube**: Rolling out AI creator tools including video idea generation and better multilingual dubbing\n",
       "\n",
       "## 🏛️ **Government and Policy Moves**\n",
       "- **US Space Force**: Planning to embed AI across routine and mission-critical workflows\n",
       "- **Malaysia**: Launched Ryt Bank - first fully AI-powered digital bank with automated services\n",
       "- **Texas**: Implementing comprehensive AI regulation covering both government and private sector use\n",
       "\n",
       "## 💰 **Investment and Market Trends**\n",
       "- **OpenAI Infrastructure**: Planning $250 gigawatts of AI compute by 2033 - massive infrastructure bet requiring unprecedented power resources\n",
       "- **xAI**: Elon Musk's company raised $10 billion at $200 billion valuation\n",
       "- **Thinking Machines Lab**: Mira Murati's venture secured $2 billion at $10 billion valuation for agentic AI development\n",
       "\n",
       "The AI landscape is experiencing a fundamental shift from experimental tools to integrated infrastructure that redefines how people interact with technology. We're witnessing the convergence of AI as both interface and infrastructure, with major players racing to become the default gateway to the digital world."
      ],
      "text/plain": [
       "<IPython.core.display.Markdown object>"
      ]
     },
     "metadata": {},
     "output_type": "display_data"
    }
   ],
   "source": [
    "await main()"
   ]
  }
 ],
 "metadata": {
  "kernelspec": {
   "display_name": "Python 3 (ipykernel)",
   "language": "python",
   "name": "python3"
  },
  "language_info": {
   "codemirror_mode": {
    "name": "ipython",
    "version": 3
   },
   "file_extension": ".py",
   "mimetype": "text/x-python",
   "name": "python",
   "nbconvert_exporter": "python",
   "pygments_lexer": "ipython3",
   "version": "3.13.2"
  }
 },
 "nbformat": 4,
 "nbformat_minor": 5
}
